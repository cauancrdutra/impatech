{
 "cells": [
  {
   "cell_type": "markdown",
   "id": "2f42f75d",
   "metadata": {},
   "source": [
    "\" escreva uma função chamada subtract_time que receba dois objetos Time e retorne o intervalo entre eles em segundos - pressupondo que ambos representam horários no mesmo dia.\" "
   ]
  },
  {
   "cell_type": "code",
   "execution_count": null,
   "id": "c11b1dab",
   "metadata": {},
   "outputs": [
    {
     "name": "stdout",
     "output_type": "stream",
     "text": [
      "False True\n",
      "3\n"
     ]
    }
   ],
   "source": [
    "# classe é como se fosse uma função que aceita argumentos. Esses argumentos são parâmetros que geram objetos. Cada objeto é uma instância da classe. O termo \"objeto\" serve para diferenciar de \"classe\" e o termo \"instância\" serve pra diferenciar objetos entre si.\n",
    "# a classe point recebe dois argumentos: posição x e posição y\n",
    "# \"métodos\" são funções (que retonam coisas) que ficam dentro das classes. Vc os chama por classe.metodo(argumento)\n",
    "#   existem \"métodos especiais\", com double underscore antes e depois.\n",
    "#       você não os chama diretamente. Eles são chamados automaticamente, por trás dos panos. Você chama como linha1 == linha2, e não linha1.__eq__(linha2). Você não chama Linha.__init__(ponto1, ponto2). Vc chama Linha(ponto1, ponto2). Cada método tem a sua função.\n",
    "# Tudo são funções em Python. Qualquer operador, qualquer coisa. São classes com argumentos. Só que os especiais te permitem escrever as coisas de maneira mais simplificada. Por isso que o Python é orientado a objetos!\n",
    "\n",
    "# para criar uma classe, a sintaxe é a seguinte:\n",
    "\n",
    "class Point: # gera pontos e compara pontos\n",
    "    # inicializa/cria pontos dados os argumentos\n",
    "    def __init__(eu, x=0, y=0): # igualar os parametros a alguma coisa aqui faz com que, se o método init não receber esse parâmetro, ele vai preencher com 0. Se receber, ele substitui o 0 pelo o que recebeu.\n",
    "        eu.coordx = x # criei um atributo chamado coordx da classe Point que vai, aqui, receber o parâmetro x do método __init__\n",
    "        eu.coordy = y # self é uma variável que se refere ao objeto em si. \n",
    "    \n",
    "    # compara dois pontos\n",
    "    def __eq__(eu, other):\n",
    "        return eu.coordx == other.coordx and eu.coordy == other.coordy # retorna True se as coordenadas forem iguais e False no caso contrário\n",
    "\n",
    "# aí posso declarar as instancias dando argumentos à classe Point\n",
    "\n",
    "# isso funciona sem ter que vc chamar o método init pq quando vc declara a classe point assim abaixo, é a primeira função que ele procura. O primeiro argumento da classe init vai ser o próprio objeto \"recém-criado\", vazio, que é o self - o nome dessa variável é arbitrário! É só uma convenção escrever assim, mas ele vai receber todo o objeto. Os próximos argumentos vão ser os argumentos da função mesmo. Daí no caso abaixo eu chamei a função point só dando dois argumentos. Esses dois argumentos são ser os dois últimos argumentos no método especial init, x e y. O primeiro desse método vai ser o objeto recém criado. Daí vc atribui à variável self (o proprio objeto) os parâmetros x e y que vc inseriu a partir de self.x e self.y. Esses dois vão virar atributos da classe Point, que são nada mais, nada menos que variáveis internas. Então se eu chamar ponto1.x, me retorna 3. Massa! Parece que coisas que estão dentro da classe sao chamadas como classe.coisa_dentro_da_classe. Falo \"coisa\" pq vi que pode ser uma funcao ou só um atributo mesmo.\n",
    "\n",
    "# o método __init__ é o único método que é chamado quando vc escreve Classe(args). Bem útil.\n",
    "\n",
    "ponto1 = Point(3, 4)\n",
    "ponto2 = Point(5, 7)\n",
    "ponto3 = Point(3, 4)\n",
    "\n",
    "print(ponto1 == ponto2, ponto1 == ponto3)\n",
    "# vc só aplica os métodos dentro de um objeto depois de ter criado o objeto. NÃO DÁ PRA APLICAR NA CLASSE DIRETO, como Classe.metodo(). Tem que criar uma instancia: instancia = Classe(atributos); instancia.metodo(). Aí sim.\n",
    "print(ponto1.coordx) # retornando o atributo x do ponto1\n",
    "\n"
   ]
  }
 ],
 "metadata": {
  "kernelspec": {
   "display_name": "base",
   "language": "python",
   "name": "python3"
  },
  "language_info": {
   "codemirror_mode": {
    "name": "ipython",
    "version": 3
   },
   "file_extension": ".py",
   "mimetype": "text/x-python",
   "name": "python",
   "nbconvert_exporter": "python",
   "pygments_lexer": "ipython3",
   "version": "3.13.5"
  }
 },
 "nbformat": 4,
 "nbformat_minor": 5
}
