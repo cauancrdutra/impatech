{
 "cells": [
  {
   "cell_type": "markdown",
   "id": "7f4caa47",
   "metadata": {},
   "source": [
    "## **Questão 1**"
   ]
  },
  {
   "cell_type": "code",
   "execution_count": 1,
   "id": "0781a12f",
   "metadata": {},
   "outputs": [
    {
     "name": "stdout",
     "output_type": "stream",
     "text": [
      "Mover disco 1 de X pra Y\n",
      "Mover disco 2 de X para Z\n",
      "Mover disco 1 de Y pra Z\n",
      "Mover disco 3 de X para Y\n",
      "Mover disco 1 de Z pra X\n",
      "Mover disco 2 de Z para Y\n",
      "Mover disco 1 de X pra Y\n",
      "Mover disco 4 de X para Z\n",
      "Mover disco 1 de Y pra Z\n",
      "Mover disco 2 de Y para X\n",
      "Mover disco 1 de Z pra X\n",
      "Mover disco 3 de Y para Z\n",
      "Mover disco 1 de X pra Y\n",
      "Mover disco 2 de X para Z\n",
      "Mover disco 1 de Y pra Z\n"
     ]
    }
   ],
   "source": [
    "'''\n",
    "==== TORRE DE HANOI ====\n",
    "\n",
    "n - numero de discos totais\n",
    "    os discos são nomeados de 1 a n, sendo 1 o menor\n",
    "\n",
    "algoritmo para n discos:\n",
    "    monta os n-1 do topo em Y\n",
    "    move o disco n de X pra Z \n",
    "    monta os n-1 que estão em Y em Z\n",
    "\n",
    "a cada iteração, a função chama ela própria duas vezes e executa um print, levando à complexidade O(2^{n})\n",
    "'''\n",
    "\n",
    "def torre_de_hanoi(n, X, Y, Z):\n",
    "    if n == 1:\n",
    "        print(f\"Mover disco 1 de {X} pra {Z}\")\n",
    "    else:\n",
    "        torre_de_hanoi(n-1, X, Z, Y)\n",
    "        print(f\"Mover disco {n} de {X} para {Z}\")\n",
    "        torre_de_hanoi(n-1, Y, X, Z)\n",
    "\n",
    "torre_de_hanoi(4, 'X', 'Y', 'Z')"
   ]
  },
  {
   "cell_type": "markdown",
   "id": "da8cf58a",
   "metadata": {},
   "source": [
    "---\n",
    "\n",
    "## **Questão 2**\n",
    "\n",
    "Seja $a(n)$ o número de maneiras de subir $n$ degraus. Para $n\\ge 2$ qualquer sequência de passos que leva ao degrau $n$ termina de uma destas duas maneiras:\n",
    "- a última ação foi subir 1 degrau — então os passos anteriores formam uma maneira de subir $n-1$ degraus;\n",
    "- a última ação foi subir 2 degraus — então os passos anteriores formam uma maneira de subir $n-2$ degraus.\n",
    "\n",
    "Essas duas classes são disjuntas e cobrem todas as possibilidades, logo\n",
    "$$\n",
    "a(n) = a(n-1) + a(n-2),\\qquad n\\ge2.\n",
    "$$\n",
    "As condições iniciais são $a(0)=1$ (uma maneira de ficar no lugar, a sequência vazia) e $a(1)=1$. Comparando com a sequência de Fibonacci $F_0=0,\\,F_1=1,\\,F_{k}=F_{k-1}+F_{k-2}$ vemos que\n",
    "$$\n",
    "a(n) = F_{n+1}.\n",
    "$$\n",
    "(uma verificação rápida: para $n=0$ temos $a(0)=1=F_1$; para $n=1$, $a(1)=1=F_2$; e a recorrência coincide.)\n"
   ]
  },
  {
   "cell_type": "code",
   "execution_count": 3,
   "id": "19140a38",
   "metadata": {},
   "outputs": [
    {
     "data": {
      "text/plain": [
       "8"
      ]
     },
     "execution_count": 3,
     "metadata": {},
     "output_type": "execute_result"
    }
   ],
   "source": [
    "# função que retorna o número de maneiras de subir n degraus\n",
    "# usando passos de 1 ou 2 degraus.\n",
    "def ways(n: int) -> int:\n",
    "    # casos base\n",
    "    if n < 0:\n",
    "        return 0\n",
    "    if n == 0:\n",
    "        return 1   # sequência vazia\n",
    "    if n == 1:\n",
    "        return 1\n",
    "\n",
    "    # usamos dois acumuladores para fibonacci: a = a(k-1), b = a(k)\n",
    "    a, b = 1, 1  # correspondem a(0)=1, a(1)=1\n",
    "    for _ in range(2, n + 1):\n",
    "        a, b = b, a + b  # atualiza: novo b = a(n-1)+a(n-2)\n",
    "    return b\n",
    "\n",
    "ways(5) # out: 8"
   ]
  },
  {
   "cell_type": "markdown",
   "id": "ee88f2b1",
   "metadata": {},
   "source": [
    "---\n",
    "\n",
    "## **Questão 3**\n",
    "Vamos dar uma demonstração direta usando a definição: existe $c>0$ e $N$ tais que, para todo $n\\ge N$,\n",
    "$$\n",
    "n^2 + 1000n \\le c\\, n^2.\n",
    "$$\n",
    "\n",
    "- escolha 1: $c=2$. Então queremos $n^2 + 1000n \\le 2n^2$, isto é\n",
    "  $$\n",
    "  1000n \\le n^2 \\quad\\Longleftrightarrow\\quad 1000 \\le n.\n",
    "  $$\n",
    "  Logo tomando $N=1000$ temos a desigualdade para todo $n\\ge N$. Portanto $n^2+1000n = O(n^2)$ com $c=2,\\,N=1000$.\n",
    "\n",
    "- escolha 2: $c=101$. Desejamos\n",
    "  $$\n",
    "  n^2 + 1000n \\le 101 n^2 \\quad\\Longleftrightarrow\\quad 1000n \\le 100 n^2,\n",
    "  $$\n",
    "  o que, dividindo por $n>0$, dá $1000 \\le 100 n$, i.e. $n\\ge 10$. Assim $c=101,\\,N=10$ funciona.\n",
    "\n",
    "- escolha 3: $c=1001$. Queremos\n",
    "  $$\n",
    "  n^2 + 1000n \\le 1001 n^2 \\quad\\Longleftrightarrow\\quad 1000n \\le 1000 n^2,\n",
    "  $$\n",
    "  que, para $n\\ge 1$, é verdadeira (dividindo por $n$ obtém-se $1000 \\le 1000 n$ e isto vale para $n\\ge1$). Logo $c=1001,\\,N=1$ também serve.\n",
    "\n",
    "Esses três pares $(c,N)$ satisfazem a definição, logo $n^2+1000n = O(n^2)$.\n",
    "\n"
   ]
  },
  {
   "cell_type": "markdown",
   "id": "86d2d05f",
   "metadata": {},
   "source": [
    "---\n",
    "\n",
    "## **Questão 4**\n",
    "\n",
    "Recordando as definições (forma usual, com valores absolutos):\n",
    "- $g(n)=O(f(n))$ significa que existem constantes $c>0$ e $N$ tais que, para todo $n\\ge N$,\n",
    "  $$\n",
    "  |g(n)| \\le c\\, |f(n)|.\n",
    "  $$\n",
    "- $f(n)=\\Omega(g(n))$ significa que existem constantes $c'>0$ e $N'$ tais que, para todo $n\\ge N'$,\n",
    "  $$\n",
    "  |f(n)| \\ge c'\\, |g(n)|.\n",
    "  $$\n",
    "\n",
    "**(⇒)** Suponha $g=O(f)$. Então existem $c>0$ e $N$ com $|g(n)| \\le c\\,|f(n)|$ para todo $n\\ge N$. Se $f(n)$ for zero para infinitos $n$ isso precisa ser tratado caso a caso — a versão padrão assume funções que não são identicamente zero para $n$ grandes; sob essa hipótese podemos dividir por $|f(n)|$ (quando não nulo) e obter\n",
    "$$\n",
    "\\frac{1}{c}\\,|g(n)| \\le |f(n)|,\n",
    "$$\n",
    "ou seja, tomando $c'=\\tfrac{1}{c}$ e $N'=N$ temos $|f(n)| \\ge c'|g(n)|$ para todo $n\\ge N'$. Assim $f=\\Omega(g)$.\n",
    "\n",
    "**(⇐)** Agora suponha $f=\\Omega(g)$. Então existem $c'>0$ e $N'$ com $|f(n)| \\ge c'\\,|g(n)|$ para todo $n\\ge N'$. Isso é equivalente a $|g(n)| \\le \\tfrac{1}{c'}\\,|f(n)|$. Tomando $c=\\tfrac{1}{c'}$ e $N=N'$ obtemos $g=O(f)$.\n",
    "\n",
    "Portanto $g=O(f)$ se e só se $f=\\Omega(g)$. (a demonstração é puramente algebraica a partir das definições.)\n",
    "\n"
   ]
  },
  {
   "cell_type": "markdown",
   "id": "73f07046",
   "metadata": {},
   "source": [
    "---\n",
    "\n",
    "## **Questão 5**\n",
    "\n",
    "Lembrete: $g=\\Theta(f)$ significa que $g=O(f)$ e $g=\\Omega(f)$ simultaneamente (isto é, existem constantes positivas $c_1,c_2$ e $N$ tais que, para todo $n\\ge N$,\n",
    "$$\n",
    "c_1 |f(n)| \\le |g(n)| \\le c_2 |f(n)|.\n",
    "$$\n",
    ")\n",
    "\n",
    "**(⇒)** Suponha $g=\\Theta(f)$. Então existem $c_1,c_2>0$ e $N$ com\n",
    "$$\n",
    "c_1 |f(n)| \\le |g(n)| \\le c_2 |f(n)|,\\qquad \\forall n\\ge N.\n",
    "$$\n",
    "A desigualdade da esquerda implica $|f(n)| \\le \\tfrac{1}{c_1}|g(n)|$ e a da direita implica $|g(n)| \\le c_2|f(n)|$. Assim temos simultaneamente $f=O(g)$ e $f=\\Omega(g)$, isto é, $f=\\Theta(g)$.\n",
    "\n",
    "**(⇐)** O raciocínio inverso é idêntico: se $f=\\Theta(g)$ então existem constantes que dão as duas desigualdades, e trocando papéis concluímos $g=\\Theta(f)$.\n",
    "\n",
    "Portanto a relação $\\Theta$ é simétrica: $g=\\Theta(f)$ exatamente quando $f=\\Theta(g)$.\n",
    "\n"
   ]
  }
 ],
 "metadata": {
  "kernelspec": {
   "display_name": "ambiente_aluno",
   "language": "python",
   "name": "python3"
  },
  "language_info": {
   "codemirror_mode": {
    "name": "ipython",
    "version": 3
   },
   "file_extension": ".py",
   "mimetype": "text/x-python",
   "name": "python",
   "nbconvert_exporter": "python",
   "pygments_lexer": "ipython3",
   "version": "3.9.21"
  }
 },
 "nbformat": 4,
 "nbformat_minor": 5
}
