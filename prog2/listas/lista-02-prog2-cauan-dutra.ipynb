{
 "cells": [
  {
   "cell_type": "markdown",
   "id": "f77a8b13",
   "metadata": {},
   "source": [
    "$$\\textbf{\\Huge{Exercício 1}} \\\\\n",
    "\\textrm{Implementação das operações na classe }\\texttt{Vector2D}$$"
   ]
  },
  {
   "cell_type": "code",
   "execution_count": null,
   "id": "0142754a",
   "metadata": {},
   "outputs": [
    {
     "name": "stdout",
     "output_type": "stream",
     "text": [
      "(110, 220)\n",
      "(90, 180)\n",
      "(300, 600)\n",
      "22.360679774997898\n",
      "(-10, -20)\n"
     ]
    }
   ],
   "source": [
    "import math\n",
    "\n",
    "class Vector2D:\n",
    "    # adicionando esse dunder pra poder inicializar os vetores colocando como parâmetros as duas coordenadas. Fica mais fácil de somar, por exemplo. A soma não vai alterar o vetor self.\n",
    "    def __init__(self, x=0, y=0): \n",
    "        self.x = x\n",
    "        self.y = y\n",
    "\n",
    "    # representação do vetor\n",
    "    def __str__(self):\n",
    "        return f\"({self.x}, {self.y})\"\n",
    "    \n",
    "    # soma (modificação da soma U + V. Gera um nova instância de Vector2D.)\n",
    "    def __add__(self, other):\n",
    "        return Vector2D(self.x + other.x, self.y + other.y)\n",
    "\n",
    "    # subtracao\n",
    "    def __sub__(self, other):\n",
    "        return Vector2D(self.x - other.x, self.y - other.y)\n",
    "    \n",
    "    # multiplicacao por escalar\n",
    "    def __mul__(self, alpha):\n",
    "        return Vector2D(self.x * alpha, self.y * alpha) \n",
    "\n",
    "    # valor absoluto (norma)\n",
    "    def __abs__(self):\n",
    "        return math.sqrt(self.x ** 2 + self.y ** 2) # a norma de um vetor é dada pela raiz quadrada da soma dos quadrados dos componentes\n",
    "    \n",
    "    # vetor oposto\n",
    "    def __neg__(self):\n",
    "        return self * (-1) # chamei um método da classe dentro de outro método da mesma classe. Funcionou, mas não tenho certeza se é uma boa prática (apesar de ser simples). Deixei comentado uma outra versão desse método que não precisa desse aninhamento.\n",
    "    \n",
    "    \"\"\"\n",
    "    def neg(self):\n",
    "        return Vector2D(self.x * (-1), self.y * (-1))\n",
    "    \"\"\"\n",
    "    \n",
    "    def mult(self, alpha):\n",
    "        self.x *= alpha\n",
    "        self.y *= alpha\n",
    "\n",
    "v = Vector2D(10, 20)\n",
    "u = Vector2D(100, 200)\n",
    "\n",
    "print(u + v)            # __add__\n",
    "print(u - v)            # __sub__\n",
    "print(u * 3)            # __mul__ (por escalar)\n",
    "print(abs(v))           # __abs__\n",
    "print(-v)               # __neg__\n",
    "\n"
   ]
  }
 ],
 "metadata": {
  "kernelspec": {
   "display_name": "ambiente_aluno",
   "language": "python",
   "name": "python3"
  },
  "language_info": {
   "codemirror_mode": {
    "name": "ipython",
    "version": 3
   },
   "file_extension": ".py",
   "mimetype": "text/x-python",
   "name": "python",
   "nbconvert_exporter": "python",
   "pygments_lexer": "ipython3",
   "version": "3.9.21"
  }
 },
 "nbformat": 4,
 "nbformat_minor": 5
}
