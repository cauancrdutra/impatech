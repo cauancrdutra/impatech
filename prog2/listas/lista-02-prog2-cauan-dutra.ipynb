{
 "cells": [
  {
   "cell_type": "markdown",
   "id": "f77a8b13",
   "metadata": {},
   "source": [
    "$$\\textbf{\\Huge{Exercício 1}} \\\\\n",
    "\\textrm{Implementação das operações na classe }\\texttt{Vector2D}$$"
   ]
  },
  {
   "cell_type": "code",
   "execution_count": null,
   "id": "0142754a",
   "metadata": {},
   "outputs": [],
   "source": [
    "class Vector2D:\n",
    "    x = 0\n",
    "    y = 0\n",
    "\n",
    "    def __str__(self):\n",
    "        return f\"({self.x}, {self.y})\"\n",
    "\n",
    "    def get_x(self):\n",
    "        return self.x\n",
    "    \n",
    "    def get_y(self):\n",
    "        return self.y\n",
    "    \n",
    "    def soma(self, v):\n",
    "        self.x += v.x\n",
    "        self.y += v.y\n",
    "    \n",
    "    def mult(self, alpha):\n",
    "        self.x *= alpha\n",
    "        self.y *= alpha\n",
    "\n",
    "v = Vector2D()\n",
    "v.x = 10\n",
    "v.y = 20\n",
    "\n",
    "u = Vector2D()\n",
    "u.x=100\n",
    "\n",
    "print(v)\n",
    "v.mult(3)\n",
    "print(v)\n",
    "\n",
    "print(u)\n",
    "u.soma(v)\n",
    "print(u)"
   ]
  }
 ],
 "metadata": {
  "kernelspec": {
   "display_name": "ambiente_aluno",
   "language": "python",
   "name": "python3"
  },
  "language_info": {
   "codemirror_mode": {
    "name": "ipython",
    "version": 3
   },
   "file_extension": ".py",
   "mimetype": "text/x-python",
   "name": "python",
   "nbconvert_exporter": "python",
   "pygments_lexer": "ipython3",
   "version": "3.9.21"
  }
 },
 "nbformat": 4,
 "nbformat_minor": 5
}
